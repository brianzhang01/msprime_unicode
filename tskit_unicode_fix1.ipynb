{
 "cells": [
  {
   "cell_type": "code",
   "execution_count": 1,
   "metadata": {},
   "outputs": [],
   "source": [
    "import msprime\n",
    "import tskit\n",
    "from IPython.display import SVG"
   ]
  },
  {
   "cell_type": "code",
   "execution_count": 2,
   "metadata": {},
   "outputs": [
    {
     "data": {
      "text/plain": [
       "'0.7.0'"
      ]
     },
     "execution_count": 2,
     "metadata": {},
     "output_type": "execute_result"
    }
   ],
   "source": [
    "msprime.__version__"
   ]
  },
  {
   "cell_type": "code",
   "execution_count": 3,
   "metadata": {},
   "outputs": [
    {
     "data": {
      "text/plain": [
       "'0.1.4'"
      ]
     },
     "execution_count": 3,
     "metadata": {},
     "output_type": "execute_result"
    }
   ],
   "source": [
    "tskit.__version__"
   ]
  },
  {
   "cell_type": "code",
   "execution_count": 4,
   "metadata": {},
   "outputs": [],
   "source": [
    "tree_sequence = msprime.simulate(sample_size=10, Ne=1000, length=1e6, recombination_rate=2e-8, mutation_rate=1e-7, random_seed=2)\n",
    "tree = tree_sequence.first()"
   ]
  },
  {
   "cell_type": "code",
   "execution_count": 5,
   "metadata": {},
   "outputs": [
    {
     "data": {
      "image/svg+xml": [
       "<svg baseProfile=\"full\" height=\"400\" version=\"1.1\" width=\"400\" xmlns=\"http://www.w3.org/2000/svg\" xmlns:ev=\"http://www.w3.org/2001/xml-events\" xmlns:xlink=\"http://www.w3.org/1999/xlink\"><defs/><g id=\"lines\" stroke=\"black\"><line x1=\"64.58333333333334\" x2=\"64.58333333333334\" y1=\"333.48913703912956\" y2=\"20.0\"/><line x1=\"64.58333333333334\" x2=\"147.91666666666669\" y1=\"20.0\" y2=\"20.0\"/><line x1=\"33.333333333333336\" x2=\"33.333333333333336\" y1=\"380.0\" y2=\"333.48913703912956\"/><line x1=\"33.333333333333336\" x2=\"64.58333333333334\" y1=\"333.48913703912956\" y2=\"333.48913703912956\"/><line x1=\"95.83333333333334\" x2=\"95.83333333333334\" y1=\"357.4483161524021\" y2=\"333.48913703912956\"/><line x1=\"95.83333333333334\" x2=\"64.58333333333334\" y1=\"333.48913703912956\" y2=\"333.48913703912956\"/><line x1=\"66.66666666666667\" x2=\"66.66666666666667\" y1=\"380.0\" y2=\"357.4483161524021\"/><line x1=\"66.66666666666667\" x2=\"95.83333333333334\" y1=\"357.4483161524021\" y2=\"357.4483161524021\"/><line x1=\"125.0\" x2=\"125.0\" y1=\"357.6880155540921\" y2=\"357.4483161524021\"/><line x1=\"125.0\" x2=\"95.83333333333334\" y1=\"357.4483161524021\" y2=\"357.4483161524021\"/><line x1=\"100.0\" x2=\"100.0\" y1=\"380.0\" y2=\"357.6880155540921\"/><line x1=\"100.0\" x2=\"125.0\" y1=\"357.6880155540921\" y2=\"357.6880155540921\"/><line x1=\"150.0\" x2=\"150.0\" y1=\"377.03250149529566\" y2=\"357.6880155540921\"/><line x1=\"150.0\" x2=\"125.0\" y1=\"357.6880155540921\" y2=\"357.6880155540921\"/><line x1=\"133.33333333333334\" x2=\"133.33333333333334\" y1=\"380.0\" y2=\"377.03250149529566\"/><line x1=\"133.33333333333334\" x2=\"150.0\" y1=\"377.03250149529566\" y2=\"377.03250149529566\"/><line x1=\"166.66666666666669\" x2=\"166.66666666666669\" y1=\"380.0\" y2=\"377.03250149529566\"/><line x1=\"166.66666666666669\" x2=\"150.0\" y1=\"377.03250149529566\" y2=\"377.03250149529566\"/><line x1=\"231.25\" x2=\"231.25\" y1=\"147.8848338892251\" y2=\"20.0\"/><line x1=\"231.25\" x2=\"147.91666666666669\" y1=\"20.0\" y2=\"20.0\"/><line x1=\"200.0\" x2=\"200.0\" y1=\"380.0\" y2=\"147.8848338892251\"/><line x1=\"200.0\" x2=\"231.25\" y1=\"147.8848338892251\" y2=\"147.8848338892251\"/><line x1=\"262.5\" x2=\"262.5\" y1=\"308.1502951913966\" y2=\"147.8848338892251\"/><line x1=\"262.5\" x2=\"231.25\" y1=\"147.8848338892251\" y2=\"147.8848338892251\"/><line x1=\"233.33333333333334\" x2=\"233.33333333333334\" y1=\"380.0\" y2=\"308.1502951913966\"/><line x1=\"233.33333333333334\" x2=\"262.5\" y1=\"308.1502951913966\" y2=\"308.1502951913966\"/><line x1=\"291.6666666666667\" x2=\"291.6666666666667\" y1=\"358.68369484308107\" y2=\"308.1502951913966\"/><line x1=\"291.6666666666667\" x2=\"262.5\" y1=\"308.1502951913966\" y2=\"308.1502951913966\"/><line x1=\"266.6666666666667\" x2=\"266.6666666666667\" y1=\"380.0\" y2=\"358.68369484308107\"/><line x1=\"266.6666666666667\" x2=\"291.6666666666667\" y1=\"358.68369484308107\" y2=\"358.68369484308107\"/><line x1=\"316.6666666666667\" x2=\"316.6666666666667\" y1=\"372.31439911915936\" y2=\"358.68369484308107\"/><line x1=\"316.6666666666667\" x2=\"291.6666666666667\" y1=\"358.68369484308107\" y2=\"358.68369484308107\"/><line x1=\"300.0\" x2=\"300.0\" y1=\"380.0\" y2=\"372.31439911915936\"/><line x1=\"300.0\" x2=\"316.6666666666667\" y1=\"372.31439911915936\" y2=\"372.31439911915936\"/><line x1=\"333.33333333333337\" x2=\"333.33333333333337\" y1=\"380.0\" y2=\"372.31439911915936\"/><line x1=\"333.33333333333337\" x2=\"316.6666666666667\" y1=\"372.31439911915936\" y2=\"372.31439911915936\"/></g><g font-size=\"14\" text-anchor=\"start\"><text x=\"100.83333333333334\" y=\"352.4483161524021\">22</text><text x=\"130.0\" y=\"352.6880155540921\">21</text><text x=\"155.0\" y=\"372.03250149529566\">10</text><text x=\"236.25\" y=\"142.8848338892251\">109</text><text x=\"267.5\" y=\"303.1502951913966\">63</text><text x=\"296.6666666666667\" y=\"353.68369484308107\">20</text><text x=\"321.6666666666667\" y=\"367.31439911915936\">11</text></g><g font-size=\"14\" text-anchor=\"end\"><text x=\"59.58333333333334\" y=\"328.48913703912956\">48</text></g><g font-size=\"14\" text-anchor=\"middle\"><text x=\"147.91666666666669\" y=\"15.0\">125</text><text x=\"33.333333333333336\" y=\"400.0\">6</text><text x=\"66.66666666666667\" y=\"400.0\">9</text><text x=\"100.0\" y=\"400.0\">8</text><text x=\"133.33333333333334\" y=\"400.0\">3</text><text x=\"166.66666666666669\" y=\"400.0\">5</text><text x=\"200.0\" y=\"400.0\">2</text><text x=\"233.33333333333334\" y=\"400.0\">0</text><text x=\"266.6666666666667\" y=\"400.0\">4</text><text x=\"300.0\" y=\"400.0\">1</text><text x=\"333.33333333333337\" y=\"400.0\">7</text></g><circle cx=\"147.91666666666669\" cy=\"20.0\" fill=\"black\" r=\"3\"/><circle cx=\"64.58333333333334\" cy=\"333.48913703912956\" fill=\"black\" r=\"3\"/><circle cx=\"33.333333333333336\" cy=\"380.0\" fill=\"black\" r=\"3\"/><circle cx=\"95.83333333333334\" cy=\"357.4483161524021\" fill=\"black\" r=\"3\"/><circle cx=\"66.66666666666667\" cy=\"380.0\" fill=\"black\" r=\"3\"/><circle cx=\"125.0\" cy=\"357.6880155540921\" fill=\"black\" r=\"3\"/><circle cx=\"100.0\" cy=\"380.0\" fill=\"black\" r=\"3\"/><circle cx=\"150.0\" cy=\"377.03250149529566\" fill=\"black\" r=\"3\"/><circle cx=\"133.33333333333334\" cy=\"380.0\" fill=\"black\" r=\"3\"/><circle cx=\"166.66666666666669\" cy=\"380.0\" fill=\"black\" r=\"3\"/><circle cx=\"231.25\" cy=\"147.8848338892251\" fill=\"black\" r=\"3\"/><circle cx=\"200.0\" cy=\"380.0\" fill=\"black\" r=\"3\"/><circle cx=\"262.5\" cy=\"308.1502951913966\" fill=\"black\" r=\"3\"/><circle cx=\"233.33333333333334\" cy=\"380.0\" fill=\"black\" r=\"3\"/><circle cx=\"291.6666666666667\" cy=\"358.68369484308107\" fill=\"black\" r=\"3\"/><circle cx=\"266.6666666666667\" cy=\"380.0\" fill=\"black\" r=\"3\"/><circle cx=\"316.6666666666667\" cy=\"372.31439911915936\" fill=\"black\" r=\"3\"/><circle cx=\"300.0\" cy=\"380.0\" fill=\"black\" r=\"3\"/><circle cx=\"333.33333333333337\" cy=\"380.0\" fill=\"black\" r=\"3\"/><g alignment-baseline=\"middle\" font-size=\"14\" font-style=\"italic\" text-anchor=\"start\"><text x=\"236.25\" y=\"88.44241694461255\">4</text></g><g alignment-baseline=\"middle\" font-size=\"14\" font-style=\"italic\" text-anchor=\"end\"><text x=\"59.58333333333334\" y=\"233.4927580260864\">1</text><text x=\"59.58333333333334\" y=\"128.9963790130432\">3</text><text x=\"228.33333333333334\" y=\"348.5751475956983\">2</text><text x=\"195.0\" y=\"268.44241694461255\">0</text></g><rect fill=\"red\" height=\"6\" width=\"6\" x=\"61.58333333333334\" y=\"225.9927580260864\"/><rect fill=\"red\" height=\"6\" width=\"6\" x=\"61.58333333333334\" y=\"121.4963790130432\"/><rect fill=\"red\" height=\"6\" width=\"6\" x=\"230.33333333333334\" y=\"341.0751475956983\"/><rect fill=\"red\" height=\"6\" width=\"6\" x=\"197.0\" y=\"260.94241694461255\"/><rect fill=\"red\" height=\"6\" width=\"6\" x=\"228.25\" y=\"80.94241694461255\"/></svg>"
      ],
      "text/plain": [
       "<IPython.core.display.SVG object>"
      ]
     },
     "execution_count": 5,
     "metadata": {},
     "output_type": "execute_result"
    }
   ],
   "source": [
    "SVG(tree.draw(width=400, height=400))"
   ]
  },
  {
   "cell_type": "code",
   "execution_count": 6,
   "metadata": {},
   "outputs": [
    {
     "name": "stdout",
     "output_type": "stream",
     "text": [
      "       125           \n",
      "  +----+----+        \n",
      "  |         109      \n",
      "  |       +-+-+      \n",
      "  |       |   63     \n",
      "  |       | +-+-+    \n",
      "  48      | |   |    \n",
      "+-+-+     | |   |    \n",
      "|   22    | |   |    \n",
      "| +-+-+   | |   |    \n",
      "| |   21  | |   |    \n",
      "| | +-++  | |   |    \n",
      "| | |  |  | |   20   \n",
      "| | |  |  | | +-++   \n",
      "| | |  |  | | |  11  \n",
      "| | |  |  | | | +++  \n",
      "| | |  10 | | | | |  \n",
      "| | | +++ | | | | |  \n",
      "6 9 8 3 5 2 0 4 1 7  \n",
      "\n"
     ]
    }
   ],
   "source": [
    "print(tree.draw(format=\"ascii\"))"
   ]
  },
  {
   "cell_type": "code",
   "execution_count": 7,
   "metadata": {},
   "outputs": [
    {
     "name": "stdout",
     "output_type": "stream",
     "text": [
      "       125           \n",
      "  ┏━━━━┻━━━━┓        \n",
      "  ┃         109      \n",
      "  ┃       ┏━┻━┓      \n",
      "  ┃       ┃   63     \n",
      "  ┃       ┃ ┏━┻━┓    \n",
      "  48      ┃ ┃   ┃    \n",
      "┏━┻━┓     ┃ ┃   ┃    \n",
      "┃   22    ┃ ┃   ┃    \n",
      "┃ ┏━┻━┓   ┃ ┃   ┃    \n",
      "┃ ┃   21  ┃ ┃   ┃    \n",
      "┃ ┃ ┏━┻┓  ┃ ┃   ┃    \n",
      "┃ ┃ ┃  ┃  ┃ ┃   20   \n",
      "┃ ┃ ┃  ┃  ┃ ┃ ┏━┻┓   \n",
      "┃ ┃ ┃  ┃  ┃ ┃ ┃  11  \n",
      "┃ ┃ ┃  ┃  ┃ ┃ ┃ ┏┻┓  \n",
      "┃ ┃ ┃  10 ┃ ┃ ┃ ┃ ┃  \n",
      "┃ ┃ ┃ ┏┻┓ ┃ ┃ ┃ ┃ ┃  \n",
      "6 9 8 3 5 2 0 4 1 7  \n",
      "\n"
     ]
    }
   ],
   "source": [
    "print(tree.draw(format=\"unicode\"))"
   ]
  },
  {
   "cell_type": "code",
   "execution_count": 8,
   "metadata": {},
   "outputs": [
    {
     "name": "stdout",
     "output_type": "stream",
     "text": [
      "┃ A\n",
      "┏ A\n",
      "━ A\n",
      "┻ A\n",
      "┓ A\n",
      "1 Na\n",
      "2 Na\n",
      "0 Na\n",
      "  Na\n",
      "♞ N\n",
      "中 W\n"
     ]
    }
   ],
   "source": [
    "# taken from https://stackoverflow.com/a/16118005/\n",
    "# A: East Asian Ambiguous\n",
    "# Na: East Asian Narrow\n",
    "import unicodedata\n",
    "my_string = \"┃┏━┻┓120 ♞中\"\n",
    "for c in my_string:\n",
    "    print(c, unicodedata.east_asian_width(c))"
   ]
  },
  {
   "cell_type": "code",
   "execution_count": 9,
   "metadata": {},
   "outputs": [
    {
     "name": "stdout",
     "output_type": "stream",
     "text": [
      "♞♞♞♞♞♞♞♞♞♞\n",
      "中中中中中中中中中中\n",
      "┻┻┻┻┻┻┻┻┻┻\n",
      "00000000000000000000\n",
      "00000          00000\n",
      "0000000000\n"
     ]
    }
   ],
   "source": [
    "print(\"♞\" * 10)\n",
    "print(\"中\" * 10)\n",
    "print(\"┻\" * 10)\n",
    "print(\"0\" * 20)\n",
    "print(\"0\" * 5 + \" \" * 10 + \"0\" * 5)\n",
    "print(\"0\" * 10)"
   ]
  },
  {
   "cell_type": "markdown",
   "metadata": {},
   "source": [
    "On my browser, the three rows of unicode letters line up"
   ]
  },
  {
   "cell_type": "markdown",
   "metadata": {},
   "source": [
    "## Solution 1: replace all characters with full-width versions"
   ]
  },
  {
   "cell_type": "markdown",
   "metadata": {},
   "source": [
    "Thanks to https://stackoverflow.com/a/4632373/"
   ]
  },
  {
   "cell_type": "code",
   "execution_count": 10,
   "metadata": {},
   "outputs": [],
   "source": [
    "# full width versions (SPACE is non-contiguous with ! through ~)\n",
    "SPACE = '\\N{IDEOGRAPHIC SPACE}'\n",
    "EXCLA = '\\N{FULLWIDTH EXCLAMATION MARK}'\n",
    "TILDE = '\\N{FULLWIDTH TILDE}'\n",
    "\n",
    "# strings of ASCII and full-width characters (same order)\n",
    "west = ''.join(chr(i) for i in range(ord(' '),ord('~')))\n",
    "east = SPACE + ''.join(chr(i) for i in range(ord(EXCLA),ord(TILDE)))\n",
    "\n",
    "# build the translation table\n",
    "full = str.maketrans(west,east)"
   ]
  },
  {
   "cell_type": "code",
   "execution_count": 11,
   "metadata": {},
   "outputs": [
    {
     "name": "stdout",
     "output_type": "stream",
     "text": [
      "　　　　　　　１２５　　　　　　　　　　　\n",
      "　　┏━━━━┻━━━━┓　　　　　　　　\n",
      "　　┃　　　　　　　　　１０９　　　　　　\n",
      "　　┃　　　　　　　┏━┻━┓　　　　　　\n",
      "　　┃　　　　　　　┃　　　６３　　　　　\n",
      "　　┃　　　　　　　┃　┏━┻━┓　　　　\n",
      "　　４８　　　　　　┃　┃　　　┃　　　　\n",
      "┏━┻━┓　　　　　┃　┃　　　┃　　　　\n",
      "┃　　　２２　　　　┃　┃　　　┃　　　　\n",
      "┃　┏━┻━┓　　　┃　┃　　　┃　　　　\n",
      "┃　┃　　　２１　　┃　┃　　　┃　　　　\n",
      "┃　┃　┏━┻┓　　┃　┃　　　┃　　　　\n",
      "┃　┃　┃　　┃　　┃　┃　　　２０　　　\n",
      "┃　┃　┃　　┃　　┃　┃　┏━┻┓　　　\n",
      "┃　┃　┃　　┃　　┃　┃　┃　　１１　　\n",
      "┃　┃　┃　　┃　　┃　┃　┃　┏┻┓　　\n",
      "┃　┃　┃　　１０　┃　┃　┃　┃　┃　　\n",
      "┃　┃　┃　┏┻┓　┃　┃　┃　┃　┃　　\n",
      "６　９　８　３　５　２　０　４　１　７　　\n",
      "\n"
     ]
    }
   ],
   "source": [
    "print(tree.draw(format=\"unicode\").translate(full))"
   ]
  },
  {
   "cell_type": "markdown",
   "metadata": {},
   "source": [
    "Note: it does not work if I just try to insert space characters"
   ]
  },
  {
   "cell_type": "code",
   "execution_count": 12,
   "metadata": {},
   "outputs": [
    {
     "name": "stdout",
     "output_type": "stream",
     "text": [
      "               1 2 5                      \n",
      "    ┏━━━━┻━━━━┓                \n",
      "    ┃                   1 0 9            \n",
      "    ┃              ┏━┻━┓            \n",
      "    ┃              ┃       6 3          \n",
      "    ┃              ┃  ┏━┻━┓        \n",
      "     4 8            ┃  ┃      ┃        \n",
      "┏━┻━┓          ┃  ┃      ┃        \n",
      "┃       2 2        ┃  ┃      ┃        \n",
      "┃  ┏━┻━┓      ┃  ┃      ┃        \n",
      "┃  ┃       2 1    ┃  ┃      ┃        \n",
      "┃  ┃  ┏━┻┓    ┃  ┃      ┃        \n",
      "┃  ┃  ┃    ┃    ┃  ┃       2 0      \n",
      "┃  ┃  ┃    ┃    ┃  ┃  ┏━┻┓      \n",
      "┃  ┃  ┃    ┃    ┃  ┃  ┃     1 1    \n",
      "┃  ┃  ┃    ┃    ┃  ┃  ┃  ┏┻┓    \n",
      "┃  ┃  ┃     1 0  ┃  ┃  ┃  ┃  ┃    \n",
      "┃  ┃  ┃  ┏┻┓  ┃  ┃  ┃  ┃  ┃    \n",
      " 6   9   8   3   5   2   0   4   1   7    \n",
      "\n"
     ]
    }
   ],
   "source": [
    "my_string = tree.draw(format=\"unicode\")\n",
    "my_string = my_string.replace(\" \", \"  \")\n",
    "for i in range(10):\n",
    "    my_string = my_string.replace(str(i), ' ' + str(i))\n",
    "print(my_string)"
   ]
  },
  {
   "cell_type": "code",
   "execution_count": null,
   "metadata": {},
   "outputs": [],
   "source": []
  }
 ],
 "metadata": {
  "kernelspec": {
   "display_name": "Python 3",
   "language": "python",
   "name": "python3"
  },
  "language_info": {
   "codemirror_mode": {
    "name": "ipython",
    "version": 3
   },
   "file_extension": ".py",
   "mimetype": "text/x-python",
   "name": "python",
   "nbconvert_exporter": "python",
   "pygments_lexer": "ipython3",
   "version": "3.5.6"
  }
 },
 "nbformat": 4,
 "nbformat_minor": 2
}
